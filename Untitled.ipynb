{
 "cells": [
  {
   "cell_type": "code",
   "execution_count": 10,
   "id": "smart-depth",
   "metadata": {},
   "outputs": [
    {
     "name": "stdout",
     "output_type": "stream",
     "text": [
      "Enter your username : sd\n",
      "Enter your password : sds\n",
      "You have entered wrong username!\n"
     ]
    }
   ],
   "source": [
    "class Admin:\n",
    "\n",
    "    admin = [{'Username':'admin', 'Password':'Password'}]\n",
    "    #Admins can do their operations only if this session is true\n",
    "    SESSION = False\n",
    "\n",
    "    @classmethod\n",
    "    def admin_login(cls, username, password):\n",
    "        username = input('Enter your username : ')\n",
    "        password = input('Enter your password : ')\n",
    "        for i in range(len(cls.admin)):\n",
    "            if cls.admin[i]['Username']==username:\n",
    "                if cls.admin[i]['Password']==password:\n",
    "                    cls.SESSION = True\n",
    "                else:\n",
    "                    print('You have entered wrong password!')\n",
    "            else:\n",
    "                print('You have entered wrong username!')\n",
    "a = Admin()\n",
    "a.admin_login('hjjhjh', 'Password')"
   ]
  },
  {
   "cell_type": "code",
   "execution_count": 11,
   "id": "excellent-preserve",
   "metadata": {},
   "outputs": [],
   "source": [
    "import re"
   ]
  },
  {
   "cell_type": "code",
   "execution_count": 20,
   "id": "diagnostic-craps",
   "metadata": {},
   "outputs": [
    {
     "name": "stdout",
     "output_type": "stream",
     "text": [
      "<re.Match object; span=(0, 15), match='jerin@gmail.com'>\n"
     ]
    }
   ],
   "source": [
    "a = 'jerin@gmail.com'\n",
    "reg = '^[A-Za-z0-9.+=]+@[a-z]+\\.com'\n",
    "print(re.search(reg, a))"
   ]
  },
  {
   "cell_type": "code",
   "execution_count": 22,
   "id": "living-strand",
   "metadata": {},
   "outputs": [
    {
     "name": "stdout",
     "output_type": "stream",
     "text": [
      "<re.Match object; span=(0, 10), match='9633001757'>\n"
     ]
    }
   ],
   "source": [
    "a ='9633001757'\n",
    "reg = '[0-9]{10}'\n",
    "print(re.search(reg, a))"
   ]
  },
  {
   "cell_type": "code",
   "execution_count": 24,
   "id": "tender-prize",
   "metadata": {},
   "outputs": [
    {
     "data": {
      "text/plain": [
       "10.09"
      ]
     },
     "execution_count": 24,
     "metadata": {},
     "output_type": "execute_result"
    }
   ],
   "source": [
    "round(10.0920390293, 2)"
   ]
  },
  {
   "cell_type": "code",
   "execution_count": 37,
   "id": "fundamental-oxide",
   "metadata": {},
   "outputs": [],
   "source": [
    "import sqlite3 as sq"
   ]
  },
  {
   "cell_type": "code",
   "execution_count": 60,
   "id": "clean-admission",
   "metadata": {},
   "outputs": [],
   "source": [
    "conn = sq.connect('gym_database.db')\n",
    "\n",
    "conn.execute('''\n",
    "        CREATE TABLE IF NOT EXISTS USERS(\n",
    "            id INTEGER PRIMARY KEY AUTOINCREMENT,\n",
    "            name TEXT NOT NULL,\n",
    "            email TEXT NOT NULL,\n",
    "            gender TEXT NOT NULL,\n",
    "            contact INT NOT NULL,\n",
    "            height INT NOT NULL,\n",
    "            weight INT NOT NULL,\n",
    "            age INT NOT NULL,\n",
    "            bmi INT NOT NULL,\n",
    "            membership INTEGER NOT NULL,\n",
    "            UNIQUE(contact)\n",
    "        );\n",
    "        ''')\n",
    "\n",
    "conn.close()"
   ]
  },
  {
   "cell_type": "code",
   "execution_count": 61,
   "id": "breathing-vegetable",
   "metadata": {},
   "outputs": [
    {
     "name": "stdout",
     "output_type": "stream",
     "text": [
      "Opened database successfully\n",
      "Operation done successfully\n"
     ]
    }
   ],
   "source": [
    "import sqlite3\n",
    "\n",
    "conn = sqlite3.connect('gym_database.db')\n",
    "print(\"Opened database successfully\")\n",
    "\n",
    "cursor = conn.execute(\"SELECT id, name from USERS\")\n",
    "for row in cursor:\n",
    "   print(\"ID = \", row[0])\n",
    "   print(\"NAME = \", row[1])\n",
    "\n",
    "print(\"Operation done successfully\")\n",
    "conn.close()"
   ]
  },
  {
   "cell_type": "code",
   "execution_count": 137,
   "id": "hundred-league",
   "metadata": {},
   "outputs": [],
   "source": [
    "conn = sq.connect('gym_database.db')\n",
    "\n",
    "cursor = conn.cursor()\n",
    "query = conn.execute(\"SELECT id, name from USERS\")\n",
    "for row in query:\n",
    "    cursor.execute(\"select name from USERS where contact=9999999999\")\n",
    "    data = cursor.fetchall()\n",
    "    if len(data)==0:\n",
    "        print('no')\n",
    "    else:\n",
    "        sql = \"update USERS set name=?, age=?\"\n",
    "        conn.execute(sql, (123,100))\n",
    "        conn.commit()\n",
    "\n",
    "conn.close()"
   ]
  },
  {
   "cell_type": "code",
   "execution_count": 107,
   "id": "accompanied-correspondence",
   "metadata": {},
   "outputs": [],
   "source": [
    "from prettytable import PrettyTable"
   ]
  },
  {
   "cell_type": "code",
   "execution_count": 117,
   "id": "associate-consultation",
   "metadata": {},
   "outputs": [
    {
     "name": "stdout",
     "output_type": "stream",
     "text": [
      "+-------+-----------------+--------+------------+--------+-------+-----+------+------------+\n",
      "|  Name |      Email      | Gender |  Contact   | Height | Wight | Age | BMI  | Membership |\n",
      "+-------+-----------------+--------+------------+--------+-------+-----+------+------------+\n",
      "| Jerin | jerin@gmail.com |  male  | 9999999999 |  180   |   78  |  21 | 24.1 |     1      |\n",
      "+-------+-----------------+--------+------------+--------+-------+-----+------+------------+\n"
     ]
    }
   ],
   "source": [
    "x = PrettyTable()\n",
    "x.field_names = ['Name', 'Email', 'Gender', 'Contact', 'Height', 'Wight', 'Age', 'BMI', 'Membership']\n",
    "a = ['Jerin', 'jerin@gmail.com', 'male', '9999999999', '180', '78', '21', '24.1', '1']\n",
    "# for i in range(len(a)):\n",
    "#     print(i)\n",
    "#     x.add_row(a[i])\n",
    "x.add_row(a)\n",
    "print(x)"
   ]
  }
 ],
 "metadata": {
  "kernelspec": {
   "display_name": "Python 3",
   "language": "python",
   "name": "python3"
  },
  "language_info": {
   "codemirror_mode": {
    "name": "ipython",
    "version": 3
   },
   "file_extension": ".py",
   "mimetype": "text/x-python",
   "name": "python",
   "nbconvert_exporter": "python",
   "pygments_lexer": "ipython3",
   "version": "3.9.2"
  }
 },
 "nbformat": 4,
 "nbformat_minor": 5
}
