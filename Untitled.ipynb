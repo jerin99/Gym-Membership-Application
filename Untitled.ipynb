{
 "cells": [
  {
   "cell_type": "code",
   "execution_count": 10,
   "id": "natural-compression",
   "metadata": {},
   "outputs": [
    {
     "name": "stdout",
     "output_type": "stream",
     "text": [
      "Enter your username : sd\n",
      "Enter your password : sds\n",
      "You have entered wrong username!\n"
     ]
    }
   ],
   "source": [
    "class Admin:\n",
    "\n",
    "    admin = [{'Username':'admin', 'Password':'Password'}]\n",
    "    #Admins can do their operations only if this session is true\n",
    "    SESSION = False\n",
    "\n",
    "    @classmethod\n",
    "    def admin_login(cls, username, password):\n",
    "        username = input('Enter your username : ')\n",
    "        password = input('Enter your password : ')\n",
    "        for i in range(len(cls.admin)):\n",
    "            if cls.admin[i]['Username']==username:\n",
    "                if cls.admin[i]['Password']==password:\n",
    "                    cls.SESSION = True\n",
    "                else:\n",
    "                    print('You have entered wrong password!')\n",
    "            else:\n",
    "                print('You have entered wrong username!')\n",
    "a = Admin()\n",
    "a.admin_login('hjjhjh', 'Password')"
   ]
  },
  {
   "cell_type": "code",
   "execution_count": 11,
   "id": "rolled-enterprise",
   "metadata": {},
   "outputs": [],
   "source": [
    "import re"
   ]
  },
  {
   "cell_type": "code",
   "execution_count": 20,
   "id": "figured-nurse",
   "metadata": {},
   "outputs": [
    {
     "name": "stdout",
     "output_type": "stream",
     "text": [
      "<re.Match object; span=(0, 15), match='jerin@gmail.com'>\n"
     ]
    }
   ],
   "source": [
    "a = 'jerin@gmail.com'\n",
    "reg = '^[A-Za-z0-9.+=]+@[a-z]+\\.com'\n",
    "print(re.search(reg, a))"
   ]
  },
  {
   "cell_type": "code",
   "execution_count": 22,
   "id": "desperate-tobago",
   "metadata": {},
   "outputs": [
    {
     "name": "stdout",
     "output_type": "stream",
     "text": [
      "<re.Match object; span=(0, 10), match='9633001757'>\n"
     ]
    }
   ],
   "source": [
    "a ='9633001757'\n",
    "reg = '[0-9]{10}'\n",
    "print(re.search(reg, a))"
   ]
  },
  {
   "cell_type": "code",
   "execution_count": 24,
   "id": "dangerous-minnesota",
   "metadata": {},
   "outputs": [
    {
     "data": {
      "text/plain": [
       "10.09"
      ]
     },
     "execution_count": 24,
     "metadata": {},
     "output_type": "execute_result"
    }
   ],
   "source": [
    "round(10.0920390293, 2)"
   ]
  },
  {
   "cell_type": "code",
   "execution_count": 37,
   "id": "suburban-debate",
   "metadata": {},
   "outputs": [],
   "source": [
    "import sqlite3 as sq"
   ]
  },
  {
   "cell_type": "code",
   "execution_count": 195,
   "id": "promising-relief",
   "metadata": {},
   "outputs": [],
   "source": [
    "conn = sq.connect('gym_database.db')\n",
    "\n",
    "conn.execute('''\n",
    "        CREATE TABLE IF NOT EXISTS USERS(\n",
    "            id INTEGER PRIMARY KEY AUTOINCREMENT,\n",
    "            name TEXT NOT NULL,\n",
    "            email TEXT NOT NULL,\n",
    "            gender TEXT NOT NULL,\n",
    "            contact INT NOT NULL,\n",
    "            height INT NOT NULL,\n",
    "            weight INT NOT NULL,\n",
    "            age INT NOT NULL,\n",
    "            bmi INT NOT NULL,\n",
    "            membership INTEGER NOT NULL,\n",
    "            UNIQUE(contact)\n",
    "        );\n",
    "        ''')\n",
    "\n",
    "conn.close()"
   ]
  },
  {
   "cell_type": "code",
   "execution_count": 61,
   "id": "chinese-stock",
   "metadata": {},
   "outputs": [
    {
     "name": "stdout",
     "output_type": "stream",
     "text": [
      "Opened database successfully\n",
      "Operation done successfully\n"
     ]
    }
   ],
   "source": [
    "import sqlite3\n",
    "\n",
    "conn = sqlite3.connect('gym_database.db')\n",
    "print(\"Opened database successfully\")\n",
    "\n",
    "cursor = conn.execute(\"SELECT id, name from USERS\")\n",
    "for row in cursor:\n",
    "   print(\"ID = \", row[0])\n",
    "   print(\"NAME = \", row[1])\n",
    "\n",
    "print(\"Operation done successfully\")\n",
    "conn.close()"
   ]
  },
  {
   "cell_type": "code",
   "execution_count": 139,
   "id": "thick-scene",
   "metadata": {},
   "outputs": [
    {
     "name": "stdout",
     "output_type": "stream",
     "text": [
      "no\n"
     ]
    }
   ],
   "source": [
    "conn = sq.connect('gym_database.db')\n",
    "\n",
    "cursor = conn.cursor()\n",
    "query = conn.execute(\"SELECT id, name from USERS\")\n",
    "for row in query:\n",
    "    cursor.execute(\"select name from USERS where contact=9999999999\")\n",
    "    data = cursor.fetchall()\n",
    "    if len(data)==0:\n",
    "        print('no')\n",
    "    else:\n",
    "        sql = \"delete from USERS where contact=9999999999\"\n",
    "        conn.execute(sql)\n",
    "        conn.commit()\n",
    "\n",
    "conn.close()"
   ]
  },
  {
   "cell_type": "code",
   "execution_count": 107,
   "id": "rational-smooth",
   "metadata": {},
   "outputs": [],
   "source": [
    "from prettytable import PrettyTable"
   ]
  },
  {
   "cell_type": "code",
   "execution_count": 140,
   "id": "industrial-petroleum",
   "metadata": {},
   "outputs": [
    {
     "name": "stdout",
     "output_type": "stream",
     "text": [
      "+-------+-----------------+--------+------------+--------+-------+-----+------+------------+\n",
      "|  Name |      Email      | Gender |  Contact   | Height | Wight | Age | BMI  | Membership |\n",
      "+-------+-----------------+--------+------------+--------+-------+-----+------+------------+\n",
      "| Jerin | jerin@gmail.com |  male  | 9999999999 |  180   |   78  |  21 | 24.1 |     1      |\n",
      "+-------+-----------------+--------+------------+--------+-------+-----+------+------------+\n"
     ]
    }
   ],
   "source": [
    "x = PrettyTable()\n",
    "x.field_names = ['Name', 'Email', 'Gender', 'Contact', 'Height', 'Wight', 'Age', 'BMI', 'Membership']\n",
    "a = ['Jerin', 'jerin@gmail.com', 'male', '9999999999', '180', '78', '21', '24.1', '1']\n",
    "# for i in range(len(a)):\n",
    "#     print(i)\n",
    "#     x.add_row(a[i])\n",
    "x.add_row(a)\n",
    "print(x)"
   ]
  },
  {
   "cell_type": "code",
   "execution_count": 194,
   "id": "incorrect-andorra",
   "metadata": {},
   "outputs": [],
   "source": [
    "conn = sq.connect('gym_database.db')\n",
    "\n",
    "conn.execute('''\n",
    "CREATE TABLE IF NOT EXISTS REGIMEN(\n",
    "id INTEGER PRIMARY KEY AUTOINCREMENT, \n",
    "sun TEXT NOT NULL, \n",
    "mon TEXT NOT NULL,\n",
    "tue TEXT NOT NULL,\n",
    "wed TEXT NOT NULL,\n",
    "thu TEXT NOT NULL,\n",
    "fri TEXT NOT NULL,\n",
    "sat TEXT NOT NULL,\n",
    "bmi_start INTEGER NOT NULL,\n",
    "bmi_end INTEGER NOT NULL,\n",
    "UNIQUE(bmi_start, bmi_end))''')\n",
    "\n",
    "conn.close()"
   ]
  },
  {
   "cell_type": "code",
   "execution_count": 158,
   "id": "completed-night",
   "metadata": {},
   "outputs": [
    {
     "name": "stdout",
     "output_type": "stream",
     "text": [
      "Enter for Sun : sdjksj\n",
      "Enter for Mon : sd'sd\n",
      "Enter for Tue : sdsds\n",
      "Enter for Wed : dsdsds\n",
      "Enter for Thu : ds\n",
      "Enter for Fri : d\n",
      "Enter for Sat : s\n"
     ]
    }
   ],
   "source": [
    "weekdays = ['Sun', 'Mon', 'Tue', 'Wed', 'Thu', 'Fri', 'Sat']\n",
    "for i in range(len(weekdays)):\n",
    "    day = input('Enter for {} : '.format(weekdays[i]))"
   ]
  },
  {
   "cell_type": "code",
   "execution_count": 168,
   "id": "animated-pearl",
   "metadata": {},
   "outputs": [
    {
     "name": "stdout",
     "output_type": "stream",
     "text": [
      "hello\n"
     ]
    }
   ],
   "source": [
    "print(\"{}\".format('hello'))"
   ]
  },
  {
   "cell_type": "code",
   "execution_count": null,
   "id": "curious-tennis",
   "metadata": {},
   "outputs": [],
   "source": []
  },
  {
   "cell_type": "code",
   "execution_count": 172,
   "id": "afraid-convertible",
   "metadata": {},
   "outputs": [
    {
     "name": "stdout",
     "output_type": "stream",
     "text": [
      "[[1, 'hg', 's', 'd', 'g', 'h', 'd', 's', 12], [2, '2', '3', '45', '6', '4', '3', '3', 1]]\n"
     ]
    }
   ],
   "source": [
    "conn = sq.connect('gym_database.db')\n",
    "\n",
    "sql = 'select * from REGIMEN'\n",
    "result = conn.execute(sql)\n",
    "l1 = []\n",
    "for i in result:\n",
    "    l2 = []\n",
    "    for j in range(0, 9):\n",
    "        l2.append(i[j])\n",
    "    l1.append(l2)\n",
    "print(l1)\n",
    "conn.close()"
   ]
  },
  {
   "cell_type": "code",
   "execution_count": 193,
   "id": "developmental-metabolism",
   "metadata": {},
   "outputs": [
    {
     "name": "stdout",
     "output_type": "stream",
     "text": [
      "21.3\n",
      "['2', '3', '45', '6', '4', '3', '3', 1]\n"
     ]
    }
   ],
   "source": [
    "conn = sq.connect('gym_database.db')\n",
    "cursor = conn.cursor()\n",
    "query = conn.execute(\"SELECT * from USERS\")\n",
    "for row in query:\n",
    "    cursor.execute(\"select contact from USERS where contact=?\", (contact,))\n",
    "    data = cursor.fetchall()\n",
    "    if len(data)!=0:\n",
    "        bmi = row[8]\n",
    "        print(bmi)\n",
    "        regimen_query = conn.execute(\"SELECT * from REGIMEN\")\n",
    "        for regimen_row in regimen_query:\n",
    "            cursor.execute(\"select * from REGIMEN where bmi_end<?\", (bmi,))\n",
    "            data = cursor.fetchall()\n",
    "            regimen_list = []\n",
    "            for i in range(1,9):\n",
    "                regimen_list.append(regimen_row[i])\n",
    "            print(regimen_list)\n",
    "            break\n",
    "conn.close()"
   ]
  },
  {
   "cell_type": "code",
   "execution_count": null,
   "id": "rapid-transport",
   "metadata": {},
   "outputs": [],
   "source": []
  },
  {
   "cell_type": "code",
   "execution_count": null,
   "id": "stopped-medicare",
   "metadata": {},
   "outputs": [],
   "source": [
    "insert into regimen values(None, 'sun', 'mon','tue','wed','thu','fri','sat',13. 24)"
   ]
  },
  {
   "cell_type": "code",
   "execution_count": null,
   "id": "marine-junction",
   "metadata": {},
   "outputs": [],
   "source": []
  }
 ],
 "metadata": {
  "kernelspec": {
   "display_name": "Python 3",
   "language": "python",
   "name": "python3"
  },
  "language_info": {
   "codemirror_mode": {
    "name": "ipython",
    "version": 3
   },
   "file_extension": ".py",
   "mimetype": "text/x-python",
   "name": "python",
   "nbconvert_exporter": "python",
   "pygments_lexer": "ipython3",
   "version": "3.9.2"
  }
 },
 "nbformat": 4,
 "nbformat_minor": 5
}
